{
 "cells": [
  {
   "cell_type": "markdown",
   "id": "fd026862",
   "metadata": {},
   "source": [
    "# **Sliding Puzzle Problem**\n",
    "## **Introduction**\n",
    "\n",
    "The objective of the lab is to efficiently solve a general \\(n^2 - 1\\) puzzle problem, such as the Gem Puzzle or Mystic Square, using path-search algorithms. This means finding a sequence of actions to transform a random initial state into a goal state, optimizing:\n",
    "\n",
    "- **Quality**: The number of actions in the solution.\n",
    "- **Cost**: The total number of nodes evaluated during the search.\n",
    "- **Efficiency**: A trade-off between quality and cost.\n",
    "\n",
    "---"
   ]
  },
  {
   "cell_type": "markdown",
   "id": "6c7af22d",
   "metadata": {},
   "source": [
    "### Import Libraries and Constants\n",
    "\n",
    "The necessary libraries are imported, and constants are defined for puzzle dimensions and randomization steps.\n"
   ]
  },
  {
   "cell_type": "code",
   "execution_count": 12,
   "id": "995df5c6",
   "metadata": {},
   "outputs": [],
   "source": [
    "from collections import namedtuple\n",
    "from random import choice\n",
    "from heapq import heappush, heappop\n",
    "from tqdm.auto import tqdm\n",
    "import numpy as np\n",
    "\n",
    "# Puzzle Configuration\n",
    "RANDOMIZE_STEPS = 100_000  # Number of random moves to shuffle the puzzle\n",
    "PUZZLE_DIM = 4  # Dimension of the puzzle (e.g., 4 for the 15-puzzle)\n",
    "# Define an Action as a swap between two positions\n",
    "Action = namedtuple('Action', ['pos1', 'pos2'])"
   ]
  },
  {
   "cell_type": "markdown",
   "id": "b2c8a013",
   "metadata": {},
   "source": [
    "### Puzzle Utility Functions\n",
    "Generate Available Actions\n",
    "\n",
    "Defines moves for the empty tile.\n"
   ]
  },
  {
   "cell_type": "code",
   "execution_count": 13,
   "id": "15af0c4c",
   "metadata": {
    "lines_to_next_cell": 1
   },
   "outputs": [],
   "source": [
    "def available_actions(state: np.ndarray) -> list[Action]:\n",
    "    \"\"\"\n",
    "    Find all valid moves for the empty tile (0).\n",
    "\n",
    "    Args:\n",
    "        state (np.ndarray): Current puzzle state.\n",
    "\n",
    "    Returns:\n",
    "        list[Action]: List of possible actions as swaps.\n",
    "    \"\"\"\n",
    "    x, y = np.argwhere(state == 0)[0]\n",
    "    actions = []\n",
    "    if x > 0:\n",
    "        actions.append(Action((x, y), (x - 1, y)))  # Move Up\n",
    "    if x < PUZZLE_DIM - 1:\n",
    "        actions.append(Action((x, y), (x + 1, y)))  # Move Down\n",
    "    if y > 0:\n",
    "        actions.append(Action((x, y), (x, y - 1)))  # Move Left\n",
    "    if y < PUZZLE_DIM - 1:\n",
    "        actions.append(Action((x, y), (x, y + 1)))  # Move Right\n",
    "    return actions"
   ]
  },
  {
   "cell_type": "markdown",
   "id": "dc01d37b",
   "metadata": {},
   "source": [
    "Execute an Action\n",
    "\n",
    "Performs the swap for a selected action."
   ]
  },
  {
   "cell_type": "code",
   "execution_count": 14,
   "id": "a2d1121c",
   "metadata": {
    "lines_to_next_cell": 1
   },
   "outputs": [],
   "source": [
    "def do_action(state: np.ndarray, action: 'Action') -> np.ndarray:\n",
    "    \"\"\"\n",
    "    Execute a move and return the new puzzle state.\n",
    "\n",
    "    Args:\n",
    "        state (np.ndarray): Current puzzle state.\n",
    "        action (Action): Action to perform.\n",
    "\n",
    "    Returns:\n",
    "        np.ndarray: New puzzle state after the move.\n",
    "    \"\"\"\n",
    "    new_state = state.copy()\n",
    "    new_state[action.pos1], new_state[action.pos2] = new_state[action.pos2], new_state[action.pos1]\n",
    "    return new_state\n",
    "\n"
   ]
  },
  {
   "cell_type": "code",
   "execution_count": 15,
   "id": "fb75dfc5",
   "metadata": {
    "lines_to_next_cell": 1
   },
   "outputs": [],
   "source": [
    "def manhattan_distance(state: np.ndarray) -> int:\n",
    "    \"\"\"\n",
    "    Compute the Manhattan distance for the puzzle state.\n",
    "\n",
    "    Args:\n",
    "        state (np.ndarray): Current puzzle state.\n",
    "\n",
    "    Returns:\n",
    "        int: Total Manhattan distance of the state.\n",
    "    \"\"\"\n",
    "    distance = 0\n",
    "    for x in range(PUZZLE_DIM):\n",
    "        for y in range(PUZZLE_DIM):\n",
    "            value = state[x, y]\n",
    "            if value != 0:  # Ignore the empty tile\n",
    "                target_x, target_y = divmod(value - 1, PUZZLE_DIM)\n",
    "                distance += abs(x - target_x) + abs(y - target_y)\n",
    "    return distance"
   ]
  },
  {
   "cell_type": "code",
   "execution_count": 16,
   "id": "3f7785a0",
   "metadata": {
    "lines_to_next_cell": 1
   },
   "outputs": [],
   "source": [
    "def is_solvable(state: np.ndarray) -> bool:\n",
    "    \"\"\"Check if the puzzle state is solvable.\"\"\"\n",
    "    flat_state = state.flatten()\n",
    "    inversions = 0\n",
    "    for i in range(len(flat_state)):\n",
    "        for j in range(i + 1, len(flat_state)):\n",
    "            if flat_state[i] and flat_state[j] and flat_state[i] > flat_state[j]:\n",
    "                inversions += 1\n",
    "    return inversions % 2 == 0"
   ]
  },
  {
   "cell_type": "code",
   "execution_count": 17,
   "id": "67cb3c3a",
   "metadata": {
    "lines_to_next_cell": 1
   },
   "outputs": [],
   "source": [
    "def print_state(state: np.ndarray):\n",
    "    \"\"\"Print the puzzle state in a readable format.\"\"\"\n",
    "    for row in state:\n",
    "        print(' '.join(f\"{num:2}\" for num in row))\n",
    "    print()"
   ]
  },
  {
   "cell_type": "markdown",
   "id": "8e425896",
   "metadata": {},
   "source": [
    "### Randomize Puzzle State\n",
    "Generates a randomized puzzle state by performing a number of random moves."
   ]
  },
  {
   "cell_type": "code",
   "execution_count": 18,
   "id": "50bd19fb",
   "metadata": {
    "lines_to_next_cell": 1
   },
   "outputs": [],
   "source": [
    "def randomize_puzzle() -> np.ndarray:\n",
    "    \"\"\"Generate a randomized puzzle state by performing random moves.\"\"\"\n",
    "    state = np.array([i for i in range(1, PUZZLE_DIM**2)] + [0]).reshape((PUZZLE_DIM, PUZZLE_DIM))\n",
    "    for _ in tqdm(range(RANDOMIZE_STEPS), desc='Randomizing'):\n",
    "        state = do_action(state, choice(available_actions(state)))\n",
    "    return state"
   ]
  },
  {
   "cell_type": "markdown",
   "id": "1f3b212e",
   "metadata": {},
   "source": [
    "## Bidirectional A* Search Algorithm\n",
    "\n",
    "Implement the main bidirectional A* search algorithm by coordinating forward and backward searches.\n"
   ]
  },
  {
   "cell_type": "code",
   "execution_count": 19,
   "id": "79500814",
   "metadata": {},
   "outputs": [],
   "source": [
    "def a_star_search(initial_state: np.ndarray, goal_state: np.ndarray, forward=True):\n",
    "    \"\"\"\n",
    "    Performs an A* search in the specified direction (forward or backward).\n",
    "\n",
    "    Args:\n",
    "        initial_state (np.ndarray): The initial state for the search.\n",
    "        goal_state (np.ndarray): The goal state for the search.\n",
    "        forward (bool): Search direction. True for forward, False for backward.\n",
    "\n",
    "    Returns:\n",
    "        tuple: (open_set, came_from, g_score)\n",
    "    \"\"\"\n",
    "    open_set = []\n",
    "    heappush(open_set, (manhattan_distance(initial_state), initial_state.tobytes()))\n",
    "    came_from = {initial_state.tobytes(): None}\n",
    "    g_score = {initial_state.tobytes(): 0}\n",
    "\n",
    "    return open_set, came_from, g_score"
   ]
  },
  {
   "cell_type": "code",
   "execution_count": 20,
   "id": "b95e5b47",
   "metadata": {
    "lines_to_next_cell": 1
   },
   "outputs": [],
   "source": [
    "def bidirectional_a_star(initial_state: np.ndarray):\n",
    "    \"\"\"Performs a bidirectional A* search to solve the puzzle.\"\"\"\n",
    "    goal_state = np.array([i for i in range(1, PUZZLE_DIM**2)] + [0]).reshape((PUZZLE_DIM, PUZZLE_DIM))\n",
    "\n",
    "    # Initialize forward and backward searches\n",
    "    open_forward, came_from_forward, g_score_forward = a_star_search(initial_state, goal_state, forward=True)\n",
    "    open_backward, came_from_backward, g_score_backward = a_star_search(goal_state, initial_state, forward=False)\n",
    "\n",
    "    explored_forward = set()\n",
    "    explored_backward = set()\n",
    "\n",
    "    nodes_evaluated = 0\n",
    "    meeting_node = None\n",
    "\n",
    "    while open_forward and open_backward:\n",
    "        # Expand forward search\n",
    "        if open_forward:\n",
    "            f_fwd, current_fwd = heappop(open_forward)\n",
    "            current_state_fwd = np.frombuffer(current_fwd, dtype=int).reshape((PUZZLE_DIM, PUZZLE_DIM))\n",
    "            explored_forward.add(current_fwd)\n",
    "\n",
    "            if current_fwd in explored_backward:\n",
    "                meeting_node = current_fwd\n",
    "                break\n",
    "\n",
    "            for action in available_actions(current_state_fwd):\n",
    "                neighbor = do_action(current_state_fwd, action)\n",
    "                neighbor_bytes = neighbor.tobytes()\n",
    "                tentative_g = g_score_forward[current_fwd] + 1\n",
    "\n",
    "                if neighbor_bytes not in g_score_forward or tentative_g < g_score_forward[neighbor_bytes]:\n",
    "                    g_score_forward[neighbor_bytes] = tentative_g\n",
    "                    f_score = tentative_g + manhattan_distance(neighbor)\n",
    "                    heappush(open_forward, (f_score, neighbor_bytes))\n",
    "                    came_from_forward[neighbor_bytes] = current_fwd\n",
    "                    nodes_evaluated += 1\n",
    "\n",
    "        # Expand backward search\n",
    "        if open_backward:\n",
    "            f_bwd, current_bwd = heappop(open_backward)\n",
    "            current_state_bwd = np.frombuffer(current_bwd, dtype=int).reshape((PUZZLE_DIM, PUZZLE_DIM))\n",
    "            explored_backward.add(current_bwd)\n",
    "\n",
    "            if current_bwd in explored_forward:\n",
    "                meeting_node = current_bwd\n",
    "                break\n",
    "\n",
    "            for action in available_actions(current_state_bwd):\n",
    "                neighbor = do_action(current_state_bwd, action)\n",
    "                neighbor_bytes = neighbor.tobytes()\n",
    "                tentative_g = g_score_backward[current_bwd] + 1\n",
    "\n",
    "                if neighbor_bytes not in g_score_backward or tentative_g < g_score_backward[neighbor_bytes]:\n",
    "                    g_score_backward[neighbor_bytes] = tentative_g\n",
    "                    f_score = tentative_g + manhattan_distance(neighbor)\n",
    "                    heappush(open_backward, (f_score, neighbor_bytes))\n",
    "                    came_from_backward[neighbor_bytes] = current_bwd\n",
    "                    nodes_evaluated += 1\n",
    "\n",
    "    if meeting_node is None:\n",
    "        return None, nodes_evaluated\n",
    "\n",
    "    # Reconstruct the path\n",
    "    path_forward = []\n",
    "    node = meeting_node\n",
    "    while node is not None:\n",
    "        path_forward.append(node)\n",
    "        node = came_from_forward.get(node)\n",
    "\n",
    "    path_backward = []\n",
    "    node = came_from_backward.get(meeting_node)\n",
    "    while node is not None:\n",
    "        path_backward.append(node)\n",
    "        node = came_from_backward.get(node)\n",
    "\n",
    "    full_path = path_forward[::-1] + path_backward\n",
    "\n",
    "    return full_path, nodes_evaluated"
   ]
  },
  {
   "cell_type": "code",
   "execution_count": 21,
   "id": "2ca03f1e",
   "metadata": {},
   "outputs": [],
   "source": [
    "def reconstruct_full_path(path_bytes: list) -> list:\n",
    "    \"\"\"Reconstructs the complete solution path from state bytes.\"\"\"\n",
    "    return [np.frombuffer(state_bytes, dtype=int).reshape((PUZZLE_DIM, PUZZLE_DIM)) for state_bytes in path_bytes]\n"
   ]
  },
  {
   "cell_type": "code",
   "execution_count": null,
   "id": "33d236e2",
   "metadata": {},
   "outputs": [],
   "source": []
  },
  {
   "cell_type": "code",
   "execution_count": 22,
   "id": "952971ae",
   "metadata": {},
   "outputs": [],
   "source": [
    "def main():\n",
    "    \"\"\"Main function to execute the puzzle solver for multiple puzzle dimensions.\"\"\"\n",
    "    # List of puzzle sizes to test\n",
    "    puzzle_sizes = [3, 4, 5]  # Example: 3x3, 4x4, 5x5 puzzles\n",
    "\n",
    "    for size in puzzle_sizes:\n",
    "        global PUZZLE_DIM  # Adjust the global puzzle dimension\n",
    "        PUZZLE_DIM = size\n",
    "\n",
    "        print(f\"\\n{'=' * 40}\")\n",
    "        print(f\"Solving {PUZZLE_DIM}x{PUZZLE_DIM} Puzzle\")\n",
    "        print(f\"{'=' * 40}\\n\")\n",
    "\n",
    "        # Randomize the puzzle until a solvable state is obtained\n",
    "        while True:\n",
    "            state = randomize_puzzle()\n",
    "            if is_solvable(state):\n",
    "                break\n",
    "            print(\"Generated unsolvable state, trying again...\")\n",
    "\n",
    "        print(\"Initial state:\")\n",
    "        print_state(state)\n",
    "        print(f\"Solvable: {is_solvable(state)}\")\n",
    "\n",
    "        # Perform bidirectional A* search\n",
    "        solution, cost = bidirectional_a_star(state)\n",
    "\n",
    "        if solution:\n",
    "            quality = len(solution) - 1  # Number of moves\n",
    "            efficiency = quality / cost if cost > 0 else 0\n",
    "\n",
    "            print(f\"\\nSolution found in {quality} steps!\")\n",
    "            print(f\"Quality (Number of steps): {quality}\")\n",
    "            print(f\"Cost (Nodes evaluated): {cost}\")\n",
    "            print(f\"Efficiency (Quality / Cost): {efficiency:.6f}\")\n",
    "\n",
    "            print(\"\\nGoal state (solution):\")\n",
    "            final_state = reconstruct_full_path(solution)[-1]\n",
    "            print_state(final_state)\n",
    "        else:\n",
    "            print(\"No solution found!\")\n"
   ]
  },
  {
   "cell_type": "code",
   "execution_count": null,
   "id": "338cf04b",
   "metadata": {},
   "outputs": [
    {
     "name": "stdout",
     "output_type": "stream",
     "text": [
      "\n",
      "========================================\n",
      "Solving 3x3 Puzzle\n",
      "========================================\n",
      "\n"
     ]
    },
    {
     "data": {
      "application/vnd.jupyter.widget-view+json": {
       "model_id": "004b4a011cb2438fb0bd2c36b4034867",
       "version_major": 2,
       "version_minor": 0
      },
      "text/plain": [
       "Randomizing:   0%|          | 0/100000 [00:00<?, ?it/s]"
      ]
     },
     "metadata": {},
     "output_type": "display_data"
    },
    {
     "name": "stdout",
     "output_type": "stream",
     "text": [
      "Initial state:\n",
      " 0  3  1\n",
      " 6  7  5\n",
      " 4  8  2\n",
      "\n",
      "Solvable: True\n",
      "\n",
      "Solution found in 22 steps!\n",
      "Quality (Number of steps): 22\n",
      "Cost (Nodes evaluated): 296\n",
      "Efficiency (Quality / Cost): 0.074324\n",
      "\n",
      "Goal state (solution):\n",
      " 1  2  3\n",
      " 4  5  6\n",
      " 7  8  0\n",
      "\n",
      "\n",
      "========================================\n",
      "Solving 4x4 Puzzle\n",
      "========================================\n",
      "\n"
     ]
    },
    {
     "data": {
      "application/vnd.jupyter.widget-view+json": {
       "model_id": "0548ca6d5b6d435c84dbba121e524b27",
       "version_major": 2,
       "version_minor": 0
      },
      "text/plain": [
       "Randomizing:   0%|          | 0/100000 [00:00<?, ?it/s]"
      ]
     },
     "metadata": {},
     "output_type": "display_data"
    },
    {
     "name": "stdout",
     "output_type": "stream",
     "text": [
      "Initial state:\n",
      " 2  5  1 14\n",
      " 9  0  7 11\n",
      "10  8 15  4\n",
      "13  3 12  6\n",
      "\n",
      "Solvable: True\n",
      "\n",
      "Solution found in 52 steps!\n",
      "Quality (Number of steps): 52\n",
      "Cost (Nodes evaluated): 276746\n",
      "Efficiency (Quality / Cost): 0.000188\n",
      "\n",
      "Goal state (solution):\n",
      " 1  2  3  4\n",
      " 5  6  7  8\n",
      " 9 10 11 12\n",
      "13 14 15  0\n",
      "\n",
      "\n",
      "========================================\n",
      "Solving 5x5 Puzzle\n",
      "========================================\n",
      "\n"
     ]
    },
    {
     "data": {
      "application/vnd.jupyter.widget-view+json": {
       "model_id": "8a856d4d500041fdb318377b740af60b",
       "version_major": 2,
       "version_minor": 0
      },
      "text/plain": [
       "Randomizing:   0%|          | 0/100000 [00:00<?, ?it/s]"
      ]
     },
     "metadata": {},
     "output_type": "display_data"
    },
    {
     "name": "stdout",
     "output_type": "stream",
     "text": [
      "Initial state:\n",
      "10 17  9 23 21\n",
      " 4 19  5  2  3\n",
      "11 12  7  1 14\n",
      "24 20 15  0 18\n",
      "22 13  6  8 16\n",
      "\n",
      "Solvable: True\n"
     ]
    }
   ],
   "source": [
    "if __name__ == \"__main__\":\n",
    "    main()"
   ]
  }
 ],
 "metadata": {
  "jupytext": {
   "cell_metadata_filter": "-all",
   "main_language": "python",
   "notebook_metadata_filter": "-all"
  },
  "kernelspec": {
   "display_name": "labenv",
   "language": "python",
   "name": "python3"
  },
  "language_info": {
   "codemirror_mode": {
    "name": "ipython",
    "version": 3
   },
   "file_extension": ".py",
   "mimetype": "text/x-python",
   "name": "python",
   "nbconvert_exporter": "python",
   "pygments_lexer": "ipython3",
   "version": "3.12.7"
  }
 },
 "nbformat": 4,
 "nbformat_minor": 5
}
